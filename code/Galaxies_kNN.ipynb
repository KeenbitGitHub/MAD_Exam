{
 "cells": [
  {
   "cell_type": "code",
   "execution_count": 3,
   "metadata": {},
   "outputs": [],
   "source": [
    "import csv\n",
    "import numpy\n",
    "import matplotlib.pyplot as plt\n",
    "from matplotlib.patches import Patch"
   ]
  },
  {
   "cell_type": "code",
   "execution_count": 4,
   "metadata": {},
   "outputs": [
    {
     "name": "stdout",
     "output_type": "stream",
     "text": [
      "Number of training instances: 500\n",
      "Number of test instances: 500\n",
      "Number of attributes: 10\n"
     ]
    }
   ],
   "source": [
    "train_data = numpy.loadtxt(\"./../data/galaxies_train.csv\", delimiter=\",\", skiprows=1)\n",
    "test_data = numpy.loadtxt(\"./../data/galaxies_test.csv\", delimiter=\",\", skiprows=1)\n",
    "\n",
    "X_train = train_data[:,1:]\n",
    "t_train = train_data[:,0]\n",
    "X_test = test_data[:,1:]\n",
    "t_test = test_data[:,0]\n",
    "print(\"Number of training instances: %i\" % X_train.shape[0])\n",
    "print(\"Number of test instances: %i\" % X_test.shape[0])\n",
    "print(\"Number of attributes: %i\" % X_train.shape[1])"
   ]
  },
  {
   "cell_type": "code",
   "execution_count": 9,
   "metadata": {},
   "outputs": [],
   "source": [
    "# NOTE: You are supposed to use this strucuture, i.e., \n",
    "# the pre-defined functions and variables. If you \n",
    "# have difficulties to keep this structure, you ARE \n",
    "# ALLOWED to adapt/change the code structure slightly!\n",
    "# You might also want to add additional functions or\n",
    "# variables.\n",
    "\n",
    "class NearestNeighborRegressor:\n",
    "    \n",
    "    def __init__(self, n_neighbors=1, dist_measure=\"euclidean\", dist_matrix=None):\n",
    "        \"\"\"\n",
    "        Initializes the model.\n",
    "        \n",
    "        Parameters\n",
    "        ----------\n",
    "        n_neighbors : The number of nearest neigbhors (default 1)\n",
    "        dist_measure : The distance measure used (default \"euclidean\")\n",
    "        dist_matrix : The distance matrix if needed (default \"None\")\n",
    "        \"\"\"\n",
    "        \n",
    "        self.n_neighbors = n_neighbors\n",
    "        self.dist_measure = dist_measure\n",
    "        self.dist_matrix = dist_matrix\n",
    "    \n",
    "    def fit(self, X, t):\n",
    "        \"\"\"\n",
    "        Fits the nearest neighbor regression model.\n",
    "\n",
    "        Parameters\n",
    "        ----------\n",
    "        X : Array of shape [n_samples, n_features]\n",
    "        t : Array of length n_samples\n",
    "        \"\"\" \n",
    "        \n",
    "        self.X_train = X\n",
    "        self.t_train = t\n",
    "    \n",
    "    def predict(self, X):\n",
    "        \"\"\"\n",
    "        Computes predictions for a new set of points.\n",
    "\n",
    "        Parameters\n",
    "        ----------\n",
    "        X : Array of shape [n_samples, n_features]\n",
    "\n",
    "        Returns\n",
    "        -------\n",
    "        predictions : Array of length n_samples\n",
    "        \"\"\"         \n",
    "        \n",
    "        predictions = []\n",
    "        \n",
    "        # TODO: ADD YOUR CODE HERE\n",
    "        if (self.dist_measure == \"euclidean\"):\n",
    "            for j in X:\n",
    "                distance_array = []\n",
    "                for i in self.X_train:\n",
    "                    dist = numpy.linalg.norm(i - j)\n",
    "                    distance_array.append(dist)\n",
    "\n",
    "                # Finds the k nearest neighbours\n",
    "                # Code snippet found at https://stackoverflow.com/a/34226816\n",
    "                nearest_index = numpy.argpartition(distance_array, self.n_neighbors)[:self.n_neighbors]\n",
    "                nearest_neigbours = self.t_train[nearest_index]\n",
    "\n",
    "                tp = 0\n",
    "                for i in nearest_neigbours:\n",
    "                    tp += i\n",
    "                tp /= self.n_neighbors\n",
    "\n",
    "                predictions.append(tp)\n",
    "        else:\n",
    "            for j in X:\n",
    "                distance_array = []\n",
    "                for i in self.X_train:\n",
    "                    pq = numpy.array(i - j)\n",
    "                    if (self.dist_matrix != None):\n",
    "                        M = self.dist_matrix\n",
    "                    else:\n",
    "                        M = numpy.diag([0.00001, 0.00001, 0.00001, 0.00001, 0.00001, 0.00001, 0.00001, 0.00001, 1.0, 1.0])\n",
    "                    dist = numpy.matmul(numpy.matmul(pq.T, M), pq)\n",
    "                    distance_array.append(dist)\n",
    "                    \n",
    "                # Finds the k nearest neighbours\n",
    "                # Code snippet found at https://stackoverflow.com/a/34226816\n",
    "                nearest_index = numpy.argpartition(distance_array, self.n_neighbors)[:self.n_neighbors]\n",
    "                nearest_neigbours = self.t_train[nearest_index]\n",
    "\n",
    "                tp = 0\n",
    "                for i in nearest_neigbours:\n",
    "                    tp += i\n",
    "                tp /= self.n_neighbors\n",
    "\n",
    "                predictions.append(tp)\n",
    "            \n",
    "        predictions = numpy.array(predictions)\n",
    "        \n",
    "        return predictions\n",
    "    \n",
    "    # Calculates the RMSE between the true value, t, and the predicted value, tp.\n",
    "    # This function has been taken from my answer to assignment 1.\n",
    "    # The assignment was fully made by me and not made in any collaborations.\n",
    "    def RMSE(self, t, tp):\n",
    "        N = len(t)\n",
    "        s = 0\n",
    "        for i in range(N):\n",
    "            s += numpy.linalg.norm((t[i] - tp[i]))**2\n",
    "        s /= N\n",
    "        s = s**(0.5)\n",
    "        return s\n",
    "    "
   ]
  },
  {
   "cell_type": "code",
   "execution_count": 11,
   "metadata": {},
   "outputs": [
    {
     "name": "stdout",
     "output_type": "stream",
     "text": [
      "1.2012679122326166\n"
     ]
    },
    {
     "data": {
      "image/png": "[encoded data removed]",
      "text/plain": [
       "<Figure size 432x288 with 1 Axes>"
      ]
     },
     "metadata": {
      "needs_background": "light"
     },
     "output_type": "display_data"
    }
   ],
   "source": [
    "# TODO: ADD YOUR CODE HERE\n",
    "model = NearestNeighborRegressor(n_neighbors=3, dist_measure = \"non-euclidean\")\n",
    "model.fit(X_train, t_train)\n",
    "predictions = model.predict(X_test)\n",
    "    \n",
    "# RMSE\n",
    "RMSE = model.RMSE(t_train, predictions)\n",
    "print(RMSE)\n",
    "\n",
    "# Scatter\n",
    "for i in range(len(predictions)):\n",
    "    plt.scatter(t_test[i], t_test[i], c = \"red\")\n",
    "    plt.scatter(t_test[i], predictions[i], c = \"blue\")\n",
    "    \n",
    "red_patch = Patch(color = \"red\", label = \"true redshift\")\n",
    "blue_patch = Patch(color = \"blue\", label = \"predicted redshift\")\n",
    "plt.legend(handles = [red_patch, blue_patch], loc = \"best\")\n",
    "plt.show()"
   ]
  },
  {
   "cell_type": "code",
   "execution_count": null,
   "metadata": {},
   "outputs": [],
   "source": []
  }
 ],
 "metadata": {
  "kernelspec": {
   "display_name": "Python 3",
   "language": "python",
   "name": "python3"
  },
  "language_info": {
   "codemirror_mode": {
    "name": "ipython",
    "version": 3
   },
   "file_extension": ".py",
   "mimetype": "text/x-python",
   "name": "python",
   "nbconvert_exporter": "python",
   "pygments_lexer": "ipython3",
   "version": "3.7.3"
  }
 },
 "nbformat": 4,
 "nbformat_minor": 2
}
