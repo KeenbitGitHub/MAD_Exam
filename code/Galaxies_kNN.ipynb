{
 "cells": [
  {
   "cell_type": "code",
   "execution_count": 153,
   "metadata": {},
   "outputs": [],
   "source": [
    "import csv\n",
    "import numpy\n",
    "import matplotlib.pyplot as plt\n",
    "from matplotlib.patches import Patch"
   ]
  },
  {
   "cell_type": "code",
   "execution_count": 154,
   "metadata": {},
   "outputs": [
    {
     "name": "stdout",
     "output_type": "stream",
     "text": [
      "Number of training instances: 500\n",
      "Number of test instances: 500\n",
      "Number of attributes: 10\n"
     ]
    }
   ],
   "source": [
    "train_data = numpy.loadtxt(\"./../data/galaxies_train.csv\", delimiter=\",\", skiprows=1)\n",
    "test_data = numpy.loadtxt(\"./../data/galaxies_test.csv\", delimiter=\",\", skiprows=1)\n",
    "\n",
    "X_train = train_data[:,1:]\n",
    "t_train = train_data[:,0]\n",
    "X_test = test_data[:,1:]\n",
    "t_test = test_data[:,0]\n",
    "print(\"Number of training instances: %i\" % X_train.shape[0])\n",
    "print(\"Number of test instances: %i\" % X_test.shape[0])\n",
    "print(\"Number of attributes: %i\" % X_train.shape[1])"
   ]
  },
  {
   "cell_type": "code",
   "execution_count": 194,
   "metadata": {},
   "outputs": [],
   "source": [
    "# NOTE: You are supposed to use this strucuture, i.e., \n",
    "# the pre-defined functions and variables. If you \n",
    "# have difficulties to keep this structure, you ARE \n",
    "# ALLOWED to adapt/change the code structure slightly!\n",
    "# You might also want to add additional functions or\n",
    "# variables.\n",
    "\n",
    "class NearestNeighborRegressor:\n",
    "    \n",
    "    def __init__(self, n_neighbors=1, dist_measure=\"euclidean\", dist_matrix=None):\n",
    "        \"\"\"\n",
    "        Initializes the model.\n",
    "        \n",
    "        Parameters\n",
    "        ----------\n",
    "        n_neighbors : The number of nearest neigbhors (default 1)\n",
    "        dist_measure : The distance measure used (default \"euclidean\")\n",
    "        dist_matrix : The distance matrix if needed (default \"None\")\n",
    "        \"\"\"\n",
    "        \n",
    "        self.n_neighbors = n_neighbors\n",
    "        self.dist_measure = dist_measure\n",
    "        self.dist_matrix = dist_matrix\n",
    "    \n",
    "    def fit(self, X, t):\n",
    "        \"\"\"\n",
    "        Fits the nearest neighbor regression model.\n",
    "\n",
    "        Parameters\n",
    "        ----------\n",
    "        X : Array of shape [n_samples, n_features]\n",
    "        t : Array of length n_samples\n",
    "        \"\"\" \n",
    "        \n",
    "        self.X_train = X\n",
    "        self.t_train = t\n",
    "    \n",
    "    def predict(self, X):\n",
    "        \"\"\"\n",
    "        Computes predictions for a new set of points.\n",
    "\n",
    "        Parameters\n",
    "        ----------\n",
    "        X : Array of shape [n_samples, n_features]\n",
    "\n",
    "        Returns\n",
    "        -------\n",
    "        predictions : Array of length n_samples\n",
    "        \"\"\"         \n",
    "        \n",
    "        predictions = []\n",
    "        \n",
    "        # TODO: ADD YOUR CODE HERE\n",
    "        for j in X:\n",
    "            distance_array = []\n",
    "            for i in self.X_train:\n",
    "                dist = numpy.linalg.norm(i - j)\n",
    "                distance_array.append(dist)\n",
    "\n",
    "            # Finds the k nearest neighbours\n",
    "            # Code snippet found at https://stackoverflow.com/a/34226816\n",
    "            nearest_index = numpy.argpartition(distance_array, self.n_neighbors)[:self.n_neighbors]\n",
    "            nearest_neigbours = self.t_train[nearest_index]\n",
    "            \n",
    "            tp = 0\n",
    "            for i in nearest_neigbours:\n",
    "                tp += i\n",
    "            tp /= self.n_neighbors\n",
    "\n",
    "            predictions.append(tp)\n",
    "            \n",
    "        predictions = numpy.array(predictions)\n",
    "        \n",
    "        return predictions\n",
    "    \n",
    "    # Calculates the RMSE between the true value, t, and the predicted value, tp.\n",
    "    # This function has been taken from my answer to assignment 1.\n",
    "    # The assignment was fully made by me and not made in any collaborations.\n",
    "    def RMSE(self, t, tp):\n",
    "        N = len(t)\n",
    "        s = 0\n",
    "        for i in range(N):\n",
    "            s += np.linalg.norm((t[i] - tp[i]))**2\n",
    "        s /= N\n",
    "        s = s**(0.5)\n",
    "        return s\n",
    "    "
   ]
  },
  {
   "cell_type": "code",
   "execution_count": 195,
   "metadata": {},
   "outputs": [
    {
     "ename": "AttributeError",
     "evalue": "'NearestNeighborRegressor' object has no attribute 'n_nieghbors'",
     "output_type": "error",
     "traceback": [
      "\u001b[0;31m---------------------------------------------------------------------------\u001b[0m",
      "\u001b[0;31mAttributeError\u001b[0m                            Traceback (most recent call last)",
      "\u001b[0;32m<ipython-input-195-0e20e1295199>\u001b[0m in \u001b[0;36m<module>\u001b[0;34m\u001b[0m\n\u001b[1;32m      2\u001b[0m \u001b[0mmodel\u001b[0m \u001b[0;34m=\u001b[0m \u001b[0mNearestNeighborRegressor\u001b[0m\u001b[0;34m(\u001b[0m\u001b[0mn_neighbors\u001b[0m\u001b[0;34m=\u001b[0m\u001b[0;36m3\u001b[0m\u001b[0;34m)\u001b[0m\u001b[0;34m\u001b[0m\u001b[0;34m\u001b[0m\u001b[0m\n\u001b[1;32m      3\u001b[0m \u001b[0mmodel\u001b[0m\u001b[0;34m.\u001b[0m\u001b[0mfit\u001b[0m\u001b[0;34m(\u001b[0m\u001b[0mX_train\u001b[0m\u001b[0;34m,\u001b[0m \u001b[0mt_train\u001b[0m\u001b[0;34m)\u001b[0m\u001b[0;34m\u001b[0m\u001b[0;34m\u001b[0m\u001b[0m\n\u001b[0;32m----> 4\u001b[0;31m \u001b[0mpredictions\u001b[0m \u001b[0;34m=\u001b[0m \u001b[0mmodel\u001b[0m\u001b[0;34m.\u001b[0m\u001b[0mpredict\u001b[0m\u001b[0;34m(\u001b[0m\u001b[0mX_test\u001b[0m\u001b[0;34m)\u001b[0m\u001b[0;34m\u001b[0m\u001b[0;34m\u001b[0m\u001b[0m\n\u001b[0m\u001b[1;32m      5\u001b[0m \u001b[0;34m\u001b[0m\u001b[0m\n\u001b[1;32m      6\u001b[0m \u001b[0;31m# RMSE\u001b[0m\u001b[0;34m\u001b[0m\u001b[0;34m\u001b[0m\u001b[0;34m\u001b[0m\u001b[0m\n",
      "\u001b[0;32m<ipython-input-194-c02125449628>\u001b[0m in \u001b[0;36mpredict\u001b[0;34m(self, X)\u001b[0m\n\u001b[1;32m     66\u001b[0m             \u001b[0;32mfor\u001b[0m \u001b[0mi\u001b[0m \u001b[0;32min\u001b[0m \u001b[0mnearest_neigbours\u001b[0m\u001b[0;34m:\u001b[0m\u001b[0;34m\u001b[0m\u001b[0;34m\u001b[0m\u001b[0m\n\u001b[1;32m     67\u001b[0m                 \u001b[0mtp\u001b[0m \u001b[0;34m+=\u001b[0m \u001b[0mi\u001b[0m\u001b[0;34m\u001b[0m\u001b[0;34m\u001b[0m\u001b[0m\n\u001b[0;32m---> 68\u001b[0;31m             \u001b[0mtp\u001b[0m \u001b[0;34m/=\u001b[0m \u001b[0mself\u001b[0m\u001b[0;34m.\u001b[0m\u001b[0mn_nieghbors\u001b[0m\u001b[0;34m\u001b[0m\u001b[0;34m\u001b[0m\u001b[0m\n\u001b[0m\u001b[1;32m     69\u001b[0m \u001b[0;34m\u001b[0m\u001b[0m\n\u001b[1;32m     70\u001b[0m             \u001b[0mpredictions\u001b[0m\u001b[0;34m.\u001b[0m\u001b[0mappend\u001b[0m\u001b[0;34m(\u001b[0m\u001b[0mtp\u001b[0m\u001b[0;34m)\u001b[0m\u001b[0;34m\u001b[0m\u001b[0;34m\u001b[0m\u001b[0m\n",
      "\u001b[0;31mAttributeError\u001b[0m: 'NearestNeighborRegressor' object has no attribute 'n_nieghbors'"
     ]
    }
   ],
   "source": [
    "# TODO: ADD YOUR CODE HERE\n",
    "model = NearestNeighborRegressor(n_neighbors=3)\n",
    "model.fit(X_train, t_train)\n",
    "predictions = model.predict(X_test)\n",
    "    \n",
    "# RMSE\n",
    "RMSE = model.RMSE(t_train, predictions)\n",
    "print(RMSE)\n",
    "\n",
    "# Scatter\n",
    "for i in range(len(predictions)):\n",
    "    plt.scatter(t_test[i], t_test[i], c = \"red\")\n",
    "    plt.scatter(t_test[i], predictions[i], c = \"blue\")\n",
    "    \n",
    "red_patch = Patch(color = \"red\", label = \"true redshift\")\n",
    "blue_patch = Patch(color = \"blue\", label = \"predicted redshift\")\n",
    "plt.legend(handles = [red_patch, blue_patch], loc = \"best\")\n",
    "plt.show()"
   ]
  },
  {
   "cell_type": "code",
   "execution_count": null,
   "metadata": {},
   "outputs": [],
   "source": []
  }
 ],
 "metadata": {
  "kernelspec": {
   "display_name": "Python 3",
   "language": "python",
   "name": "python3"
  },
  "language_info": {
   "codemirror_mode": {
    "name": "ipython",
    "version": 3
   },
   "file_extension": ".py",
   "mimetype": "text/x-python",
   "name": "python",
   "nbconvert_exporter": "python",
   "pygments_lexer": "ipython3",
   "version": "3.7.3"
  }
 },
 "nbformat": 4,
 "nbformat_minor": 2
}
