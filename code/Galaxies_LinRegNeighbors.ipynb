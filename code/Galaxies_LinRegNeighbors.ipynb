{
 "cells": [
  {
   "cell_type": "code",
   "execution_count": 21,
   "metadata": {},
   "outputs": [],
   "source": [
    "import csv\n",
    "import numpy as np\n",
    "import matplotlib.pyplot as plt\n",
    "from matplotlib.patches import Patch"
   ]
  },
  {
   "cell_type": "code",
   "execution_count": 16,
   "metadata": {},
   "outputs": [],
   "source": [
    "train_data = np.loadtxt(\"./../data/galaxies_train.csv\", delimiter=\",\", skiprows=1)\n",
    "test_data = np.loadtxt(\"./../data/galaxies_test.csv\", delimiter=\",\", skiprows=1)"
   ]
  },
  {
   "cell_type": "code",
   "execution_count": 17,
   "metadata": {},
   "outputs": [
    {
     "name": "stdout",
     "output_type": "stream",
     "text": [
      "Number of training instances: 500\n",
      "Number of test instances: 500\n",
      "Number of attributes: 10\n"
     ]
    }
   ],
   "source": [
    "X_train = train_data[:,1:]\n",
    "t_train = train_data[:,0]\n",
    "X_test = test_data[:,1:]\n",
    "t_test = test_data[:,0]\n",
    "print(\"Number of training instances: %i\" % X_train.shape[0])\n",
    "print(\"Number of test instances: %i\" % X_test.shape[0])\n",
    "print(\"Number of attributes: %i\" % X_train.shape[1])"
   ]
  },
  {
   "cell_type": "code",
   "execution_count": 77,
   "metadata": {},
   "outputs": [],
   "source": [
    "# TODO: ADD YOUR CODE HERE\n",
    "# The following class has been taken from Galaxies_kNN.ipynb\n",
    "class NearestNeighborRegressor:\n",
    "    \n",
    "    def __init__(self, n_neighbors=15):\n",
    "        \"\"\"\n",
    "        Initializes the model.\n",
    "        \n",
    "        Parameters\n",
    "        ----------\n",
    "        n_neighbors : The number of nearest neigbhors (default 1)\n",
    "        dist_measure : The distance measure used (default \"euclidean\")\n",
    "        dist_matrix : The distance matrix if needed (default \"None\")\n",
    "        \"\"\"\n",
    "        \n",
    "        self.n_neighbors = n_neighbors\n",
    "    \n",
    "    def fit(self, X, t):\n",
    "        \"\"\"\n",
    "        Fits the nearest neighbor regression model.\n",
    "\n",
    "        Parameters\n",
    "        ----------\n",
    "        X : Array of shape [n_samples, n_features]\n",
    "        t : Array of length n_samples\n",
    "        \"\"\" \n",
    "        \n",
    "        self.X_train = X\n",
    "        self.t_train = t\n",
    "    \n",
    "    def find_nearest_neigbours(self, X):\n",
    "        \"\"\"\n",
    "        Computes predictions for a new set of points.\n",
    "\n",
    "        Parameters\n",
    "        ----------\n",
    "        X : Array of shape [n_samples, n_features]\n",
    "\n",
    "        Returns\n",
    "        -------\n",
    "        predictions : Array of length n_samples\n",
    "        \"\"\"         \n",
    "        \n",
    "        for j in X:\n",
    "            distance_array = []\n",
    "            for i in self.X_train:\n",
    "                dist = np.linalg.norm(i - j)\n",
    "                distance_array.append(dist)\n",
    "\n",
    "            # Finds the k nearest neighbours\n",
    "            # Code snippet found at https://stackoverflow.com/a/34226816\n",
    "            nearest_index = np.argpartition(distance_array, self.n_neighbors)[:self.n_neighbors]\n",
    "            nearest_neigbours_x = self.X_train[nearest_index]\n",
    "            nearest_neigbours_t = self.t_train[nearest_index]\n",
    "            \n",
    "        nearest_neigbours_x = np.array(nearest_neigbours_x)\n",
    "        nearest_neigbours_t = np.array(nearest_neigbours_t)\n",
    "        return nearest_neigbours_x, nearest_neigbours_t"
   ]
  },
  {
   "cell_type": "code",
   "execution_count": 177,
   "metadata": {},
   "outputs": [],
   "source": [
    "class regularized_least_squares():\n",
    "    def __init__(self, lamb = 1.0):\n",
    "        self.lamb = lamb\n",
    "        \n",
    "    def fit(self, X, t):\n",
    "        X = np.insert(X, 0, 1, axis = 1)\n",
    "        XtX = np.matmul(X.T, X)\n",
    "        N = len(X)\n",
    "        NLI = N * self.lamb * np.identity(len(XtX))\n",
    "        parenthesis = np.linalg.inv(XtX + NLI)\n",
    "        self.weights = np.matmul(np.matmul(parenthesis, X.T), t)\n",
    "    \n",
    "    def predict(self, X):\n",
    "        X = np.insert(X, 0, 1, axis = 1)\n",
    "        return np.matmul(X, self.weights)\n",
    "    \n",
    "    # Calculates the RMSE between the true value, t, and the predicted value, tp.\n",
    "    # This function has been taken from my answer to assignment 1.\n",
    "    # The assignment was fully made by me and not made in any collaborations.\n",
    "    def RMSE(self, t, tp):\n",
    "        N = len(t)\n",
    "        s = 0\n",
    "        for i in range(N):\n",
    "            s += np.linalg.norm((t[i] - tp[i]))**2\n",
    "        s /= N\n",
    "        s = s**(0.5)\n",
    "        return s"
   ]
  },
  {
   "cell_type": "code",
   "execution_count": 178,
   "metadata": {},
   "outputs": [],
   "source": [
    "kNN_model = NearestNeighborRegressor()\n",
    "kNN_model.fit(X_train, t_train)\n",
    "nearest_neigbours_x, nearest_neigbours_t = kNN_model.find_nearest_neigbours(X_test)"
   ]
  },
  {
   "cell_type": "code",
   "execution_count": 181,
   "metadata": {},
   "outputs": [
    {
     "name": "stdout",
     "output_type": "stream",
     "text": [
      "1.1466816634748596\n"
     ]
    }
   ],
   "source": [
    "least_square_model = regularized_least_squares()\n",
    "least_square_model.fit(nearest_neigbours_x, nearest_neigbours_t)\n",
    "tp = least_square_model.predict(X_test)\n",
    "\n",
    "# RMSE\n",
    "print(least_square_model.RMSE(t_test, tp))"
   ]
  },
  {
   "cell_type": "code",
   "execution_count": 183,
   "metadata": {},
   "outputs": [
    {
     "data": {
      "image/png": "[encoded data removed]",
      "text/plain": [
       "<Figure size 432x288 with 1 Axes>"
      ]
     },
     "metadata": {
      "needs_background": "light"
     },
     "output_type": "display_data"
    }
   ],
   "source": [
    "# Scatter\n",
    "for i in range(len(predictions)):\n",
    "    plt.scatter(t_test[i], t_test[i], c = \"red\")\n",
    "    plt.scatter(t_test[i], tp[i], c = \"blue\")\n",
    "    \n",
    "red_patch = Patch(color = \"red\", label = \"true redshift\")\n",
    "blue_patch = Patch(color = \"blue\", label = \"predicted redshift\")\n",
    "plt.legend(handles = [red_patch, blue_patch], loc = \"best\")\n",
    "plt.show()"
   ]
  },
  {
   "cell_type": "code",
   "execution_count": null,
   "metadata": {},
   "outputs": [],
   "source": []
  }
 ],
 "metadata": {
  "kernelspec": {
   "display_name": "Python 3",
   "language": "python",
   "name": "python3"
  },
  "language_info": {
   "codemirror_mode": {
    "name": "ipython",
    "version": 3
   },
   "file_extension": ".py",
   "mimetype": "text/x-python",
   "name": "python",
   "nbconvert_exporter": "python",
   "pygments_lexer": "ipython3",
   "version": "3.7.3"
  }
 },
 "nbformat": 4,
 "nbformat_minor": 2
}
